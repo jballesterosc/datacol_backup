{
 "metadata": {
  "language_info": {
   "codemirror_mode": {
    "name": "ipython",
    "version": 3
   },
   "file_extension": ".py",
   "mimetype": "text/x-python",
   "name": "python",
   "nbconvert_exporter": "python",
   "pygments_lexer": "ipython3",
   "version": "3.8.3-final"
  },
  "orig_nbformat": 2,
  "kernelspec": {
   "name": "python3",
   "display_name": "Python 3",
   "language": "python"
  }
 },
 "nbformat": 4,
 "nbformat_minor": 2,
 "cells": [
  {
   "source": [
    "# DataSet Creation\n",
    "This notebook requests each and everyone of the time-series([covid19-mx-time-series](https://github.com/mariorz/covid19-mx-time-series)) files created by [@mariorz](https://twitter.com/mariorz), filtered  by state (see how on the comments) and creates a single DataFrame to simplify the analysis by state. \n",
    "\n",
    "The time-series selected for this project are: \n",
    "\n",
    "| Indicator | Description | File |\n",
    "|:------------------------------------------------|:-------------------------------------------------|:-------------------------------------------------|\n",
    "| Confirmed cases | Confirmed by confirmation date | [covid19_confirmed_mx.csv](https://raw.githubusercontent.com/mariorz/covid19-mx-time-series/master/data/covid19_confirmed_mx.csv) |\n",
    "| Suspects | Suspect cases by date of official publication | [covid19_suspects_mx.csv](https://raw.githubusercontent.com/mariorz/covid19-mx-time-series/master/data/covid19_suspects_mx.csv) |\n",
    "| Hospitalized | Confirmed hospitalized by admission date | [hospitalized_confirmed_by_admission_date_mx.csv](https://raw.githubusercontent.com/mariorz/covid19-mx-time-series/master/data/full/by_hospital_state/hospitalized_confirmed_by_admission_date_mx.csv) |\n",
    "| Deaths | Deaths confirmed by death date | [deaths_confirmed_by_death_date_mx.csv](https://raw.githubusercontent.com/mariorz/covid19-mx-time-series/master/data/full/by_hospital_state/deaths_confirmed_by_death_date_mx.csv) |"
   ],
   "cell_type": "markdown",
   "metadata": {}
  },
  {
   "cell_type": "code",
   "execution_count": 28,
   "metadata": {},
   "outputs": [],
   "source": [
    "import pandas as pd\n",
    "import altair as alt\n",
    "from altair_saver import save\n",
    "from datetime import datetime, timedelta\n",
    "from urllib import request\n",
    "import json"
   ]
  },
  {
   "cell_type": "code",
   "execution_count": 29,
   "metadata": {},
   "outputs": [
    {
     "output_type": "execute_result",
     "data": {
      "text/plain": [
       "RendererRegistry.enable('default')"
      ]
     },
     "metadata": {},
     "execution_count": 29
    }
   ],
   "source": [
    "# Fetch & enable a Spanish timeFormat locale.\n",
    "with request.urlopen('https://raw.githubusercontent.com/d3/d3-time-format/master/locale/es-ES.json') as f:\n",
    "  es_time_format = json.load(f)\n",
    "alt.renderers.set_embed_options(timeFormatLocale=es_time_format)"
   ]
  },
  {
   "source": [
    "## Confirmed cases\n",
    "- Confirmed by confirmation date\n",
    "- Colima's first confirmed case: `17-03-2020`."
   ],
   "cell_type": "markdown",
   "metadata": {}
  },
  {
   "cell_type": "code",
   "execution_count": 30,
   "metadata": {},
   "outputs": [],
   "source": [
    "confirmed_url = 'https://raw.githubusercontent.com/mariorz/covid19-mx-time-series/master/data/covid19_confirmed_mx.csv'\n",
    "confirmed = pd.read_csv(confirmed_url, index_col=0)\n",
    "#Change the state and the initial date in the following line\n",
    "confirmed = confirmed.loc['Colima','15-03-2020':]\n",
    "confirmed = pd.DataFrame(confirmed)\n",
    "confirmed.index = pd.to_datetime(confirmed.index, format='%d-%m-%Y')\n",
    "#the following lines will create three more columns with the daily difference of cases, and the moving average of the daily cases with windows of 7 and 14 days.\n",
    "confirmed_daily = confirmed['confirmed_daily'] = confirmed.Colima.diff()\n",
    "confirmed['confirmed_ma_7'] = confirmed_daily.rolling(window=7).mean()\n",
    "confirmed['confirmed_ma_14'] = confirmed_daily.rolling(window=14).mean()\n",
    "confirmed.columns = ['confirmed','confirmed_daily','confirmed_ma_7','confirmed_ma_14']"
   ]
  },
  {
   "source": [
    "## Suspects\n",
    "- Suspect cases aggregated by date of official publication.\n",
    "- First suspect on Colima: `15-03-15`"
   ],
   "cell_type": "markdown",
   "metadata": {}
  },
  {
   "cell_type": "code",
   "execution_count": 31,
   "metadata": {},
   "outputs": [],
   "source": [
    "suspects_url = 'https://raw.githubusercontent.com/mariorz/covid19-mx-time-series/master/data/covid19_suspects_mx.csv'\n",
    "suspects = pd.read_csv(suspects_url, index_col=0)\n",
    "suspects = suspects.loc['Colima','15-03-2020':]\n",
    "suspects = pd.DataFrame(suspects)\n",
    "suspects.index = pd.to_datetime(suspects.index, format='%d-%m-%Y')\n",
    "suspects['suspects_ma_7'] = suspects.Colima.rolling(window=7).mean()\n",
    "suspects['suspects_ma_14'] = suspects.Colima.rolling(window=14).mean()\n",
    "suspects.columns = ['suspects','suspects_ma_7','suspects_ma_14']\n"
   ]
  },
  {
   "source": [
    "## Hospitalized\n",
    "-  Confirmed by admission date"
   ],
   "cell_type": "markdown",
   "metadata": {}
  },
  {
   "cell_type": "code",
   "execution_count": 32,
   "metadata": {},
   "outputs": [],
   "source": [
    "hospitalized_url = 'https://raw.githubusercontent.com/mariorz/covid19-mx-time-series/master/data/full/by_hospital_state/hospitalized_confirmed_by_admission_date_mx.csv'\n",
    "hospitalized = pd.read_csv(hospitalized_url, index_col=0)\n",
    "hospitalized = hospitalized.loc['Colima','15-03-2020':]\n",
    "hospitalized = pd.DataFrame(hospitalized)\n",
    "hospitalized.index = pd.to_datetime(hospitalized.index, format='%d-%m-%Y')\n",
    "hospitalized_daily = hospitalized['hospitalized_daily'] = hospitalized.Colima.diff()\n",
    "hospitalized['hospitalized_ma_7'] = hospitalized_daily.rolling(window=7).mean()\n",
    "hospitalized['hospitalized_ma_14'] = hospitalized_daily.rolling(window=14).mean()\n",
    "hospitalized.columns = ['hospitalized','hospitalized_daily','hospitalized_ma_7','hospitalized_ma_14']"
   ]
  },
  {
   "source": [
    "## Deaths\n",
    "- Confirmed by death date"
   ],
   "cell_type": "markdown",
   "metadata": {}
  },
  {
   "cell_type": "code",
   "execution_count": 33,
   "metadata": {},
   "outputs": [],
   "source": [
    "deaths_url = 'https://raw.githubusercontent.com/mariorz/covid19-mx-time-series/master/data/full/by_hospital_state/deaths_confirmed_by_death_date_mx.csv'\n",
    "deaths = pd.read_csv(deaths_url, index_col=0)\n",
    "deaths = deaths.loc['Colima','15-03-2020':]\n",
    "deaths = pd.DataFrame(deaths)\n",
    "deaths.index = pd.to_datetime(deaths.index, format='%d-%m-%Y')\n",
    "deaths_daily = deaths['deaths_daily'] = deaths.Colima.diff()\n",
    "deaths['hospitalized_ma_7'] = deaths_daily.rolling(window=7).mean()\n",
    "deaths['hospitalized_ma_14'] = deaths_daily.rolling(window=14).mean()\n",
    "deaths.columns = ['deaths','deaths_daily','deaths_ma_7','deaths_ma_14']"
   ]
  },
  {
   "cell_type": "code",
   "execution_count": 34,
   "metadata": {},
   "outputs": [
    {
     "output_type": "execute_result",
     "data": {
      "text/plain": [
       "            confirmed  confirmed_daily  confirmed_ma_7  confirmed_ma_14  \\\n",
       "2020-03-15          0              NaN             NaN              NaN   \n",
       "2020-03-16          0              0.0             NaN              NaN   \n",
       "2020-03-17          0              0.0             NaN              NaN   \n",
       "2020-03-18          1              1.0             NaN              NaN   \n",
       "2020-03-19          1              0.0             NaN              NaN   \n",
       "...               ...              ...             ...              ...   \n",
       "2020-12-13       7628             11.0       20.428571        24.571429   \n",
       "2020-12-14       7646             18.0       19.571429        23.428571   \n",
       "2020-12-15       7667             21.0       20.571429        20.928571   \n",
       "2020-12-16       7674              7.0       18.428571        20.214286   \n",
       "2020-12-17       7695             21.0       18.000000        19.642857   \n",
       "\n",
       "            suspects  suspects_ma_7  suspects_ma_14  hospitalized  \\\n",
       "2020-03-15         1            NaN             NaN             1   \n",
       "2020-03-16         3            NaN             NaN             2   \n",
       "2020-03-17         2            NaN             NaN             2   \n",
       "2020-03-18         2            NaN             NaN             2   \n",
       "2020-03-19         3            NaN             NaN             2   \n",
       "...              ...            ...             ...           ...   \n",
       "2020-12-13      1967    2011.428571     2028.142857          7684   \n",
       "2020-12-14      1953    2000.428571     2019.357143          7691   \n",
       "2020-12-15      1961    1989.142857     2016.071429          7694   \n",
       "2020-12-16      1993    1984.142857     2015.285714          7695   \n",
       "2020-12-17      2018    1986.142857     2014.285714          7695   \n",
       "\n",
       "            hospitalized_daily  hospitalized_ma_7  hospitalized_ma_14  deaths  \\\n",
       "2020-03-15                 NaN                NaN                 NaN       0   \n",
       "2020-03-16                 1.0                NaN                 NaN       0   \n",
       "2020-03-17                 0.0                NaN                 NaN       0   \n",
       "2020-03-18                 0.0                NaN                 NaN       0   \n",
       "2020-03-19                 0.0                NaN                 NaN       0   \n",
       "...                        ...                ...                 ...     ...   \n",
       "2020-12-13                13.0          18.285714           19.214286     829   \n",
       "2020-12-14                 7.0          16.000000           18.071429     832   \n",
       "2020-12-15                 3.0          14.142857           16.571429     833   \n",
       "2020-12-16                 1.0          11.000000           14.857143     833   \n",
       "2020-12-17                 0.0           8.285714           13.000000     833   \n",
       "\n",
       "            deaths_daily  deaths_ma_7  deaths_ma_14  \n",
       "2020-03-15           NaN          NaN           NaN  \n",
       "2020-03-16           0.0          NaN           NaN  \n",
       "2020-03-17           0.0          NaN           NaN  \n",
       "2020-03-18           0.0          NaN           NaN  \n",
       "2020-03-19           0.0          NaN           NaN  \n",
       "...                  ...          ...           ...  \n",
       "2020-12-13           3.0     1.428571      1.214286  \n",
       "2020-12-14           3.0     1.714286      1.357143  \n",
       "2020-12-15           1.0     1.714286      1.357143  \n",
       "2020-12-16           0.0     1.428571      1.357143  \n",
       "2020-12-17           0.0     1.285714      1.285714  \n",
       "\n",
       "[278 rows x 15 columns]"
      ],
      "text/html": "<div>\n<style scoped>\n    .dataframe tbody tr th:only-of-type {\n        vertical-align: middle;\n    }\n\n    .dataframe tbody tr th {\n        vertical-align: top;\n    }\n\n    .dataframe thead th {\n        text-align: right;\n    }\n</style>\n<table border=\"1\" class=\"dataframe\">\n  <thead>\n    <tr style=\"text-align: right;\">\n      <th></th>\n      <th>confirmed</th>\n      <th>confirmed_daily</th>\n      <th>confirmed_ma_7</th>\n      <th>confirmed_ma_14</th>\n      <th>suspects</th>\n      <th>suspects_ma_7</th>\n      <th>suspects_ma_14</th>\n      <th>hospitalized</th>\n      <th>hospitalized_daily</th>\n      <th>hospitalized_ma_7</th>\n      <th>hospitalized_ma_14</th>\n      <th>deaths</th>\n      <th>deaths_daily</th>\n      <th>deaths_ma_7</th>\n      <th>deaths_ma_14</th>\n    </tr>\n  </thead>\n  <tbody>\n    <tr>\n      <th>2020-03-15</th>\n      <td>0</td>\n      <td>NaN</td>\n      <td>NaN</td>\n      <td>NaN</td>\n      <td>1</td>\n      <td>NaN</td>\n      <td>NaN</td>\n      <td>1</td>\n      <td>NaN</td>\n      <td>NaN</td>\n      <td>NaN</td>\n      <td>0</td>\n      <td>NaN</td>\n      <td>NaN</td>\n      <td>NaN</td>\n    </tr>\n    <tr>\n      <th>2020-03-16</th>\n      <td>0</td>\n      <td>0.0</td>\n      <td>NaN</td>\n      <td>NaN</td>\n      <td>3</td>\n      <td>NaN</td>\n      <td>NaN</td>\n      <td>2</td>\n      <td>1.0</td>\n      <td>NaN</td>\n      <td>NaN</td>\n      <td>0</td>\n      <td>0.0</td>\n      <td>NaN</td>\n      <td>NaN</td>\n    </tr>\n    <tr>\n      <th>2020-03-17</th>\n      <td>0</td>\n      <td>0.0</td>\n      <td>NaN</td>\n      <td>NaN</td>\n      <td>2</td>\n      <td>NaN</td>\n      <td>NaN</td>\n      <td>2</td>\n      <td>0.0</td>\n      <td>NaN</td>\n      <td>NaN</td>\n      <td>0</td>\n      <td>0.0</td>\n      <td>NaN</td>\n      <td>NaN</td>\n    </tr>\n    <tr>\n      <th>2020-03-18</th>\n      <td>1</td>\n      <td>1.0</td>\n      <td>NaN</td>\n      <td>NaN</td>\n      <td>2</td>\n      <td>NaN</td>\n      <td>NaN</td>\n      <td>2</td>\n      <td>0.0</td>\n      <td>NaN</td>\n      <td>NaN</td>\n      <td>0</td>\n      <td>0.0</td>\n      <td>NaN</td>\n      <td>NaN</td>\n    </tr>\n    <tr>\n      <th>2020-03-19</th>\n      <td>1</td>\n      <td>0.0</td>\n      <td>NaN</td>\n      <td>NaN</td>\n      <td>3</td>\n      <td>NaN</td>\n      <td>NaN</td>\n      <td>2</td>\n      <td>0.0</td>\n      <td>NaN</td>\n      <td>NaN</td>\n      <td>0</td>\n      <td>0.0</td>\n      <td>NaN</td>\n      <td>NaN</td>\n    </tr>\n    <tr>\n      <th>...</th>\n      <td>...</td>\n      <td>...</td>\n      <td>...</td>\n      <td>...</td>\n      <td>...</td>\n      <td>...</td>\n      <td>...</td>\n      <td>...</td>\n      <td>...</td>\n      <td>...</td>\n      <td>...</td>\n      <td>...</td>\n      <td>...</td>\n      <td>...</td>\n      <td>...</td>\n    </tr>\n    <tr>\n      <th>2020-12-13</th>\n      <td>7628</td>\n      <td>11.0</td>\n      <td>20.428571</td>\n      <td>24.571429</td>\n      <td>1967</td>\n      <td>2011.428571</td>\n      <td>2028.142857</td>\n      <td>7684</td>\n      <td>13.0</td>\n      <td>18.285714</td>\n      <td>19.214286</td>\n      <td>829</td>\n      <td>3.0</td>\n      <td>1.428571</td>\n      <td>1.214286</td>\n    </tr>\n    <tr>\n      <th>2020-12-14</th>\n      <td>7646</td>\n      <td>18.0</td>\n      <td>19.571429</td>\n      <td>23.428571</td>\n      <td>1953</td>\n      <td>2000.428571</td>\n      <td>2019.357143</td>\n      <td>7691</td>\n      <td>7.0</td>\n      <td>16.000000</td>\n      <td>18.071429</td>\n      <td>832</td>\n      <td>3.0</td>\n      <td>1.714286</td>\n      <td>1.357143</td>\n    </tr>\n    <tr>\n      <th>2020-12-15</th>\n      <td>7667</td>\n      <td>21.0</td>\n      <td>20.571429</td>\n      <td>20.928571</td>\n      <td>1961</td>\n      <td>1989.142857</td>\n      <td>2016.071429</td>\n      <td>7694</td>\n      <td>3.0</td>\n      <td>14.142857</td>\n      <td>16.571429</td>\n      <td>833</td>\n      <td>1.0</td>\n      <td>1.714286</td>\n      <td>1.357143</td>\n    </tr>\n    <tr>\n      <th>2020-12-16</th>\n      <td>7674</td>\n      <td>7.0</td>\n      <td>18.428571</td>\n      <td>20.214286</td>\n      <td>1993</td>\n      <td>1984.142857</td>\n      <td>2015.285714</td>\n      <td>7695</td>\n      <td>1.0</td>\n      <td>11.000000</td>\n      <td>14.857143</td>\n      <td>833</td>\n      <td>0.0</td>\n      <td>1.428571</td>\n      <td>1.357143</td>\n    </tr>\n    <tr>\n      <th>2020-12-17</th>\n      <td>7695</td>\n      <td>21.0</td>\n      <td>18.000000</td>\n      <td>19.642857</td>\n      <td>2018</td>\n      <td>1986.142857</td>\n      <td>2014.285714</td>\n      <td>7695</td>\n      <td>0.0</td>\n      <td>8.285714</td>\n      <td>13.000000</td>\n      <td>833</td>\n      <td>0.0</td>\n      <td>1.285714</td>\n      <td>1.285714</td>\n    </tr>\n  </tbody>\n</table>\n<p>278 rows × 15 columns</p>\n</div>"
     },
     "metadata": {},
     "execution_count": 34
    }
   ],
   "source": [
    "merge_1 = confirmed.merge(suspects, left_index=True, right_index=True)\n",
    "merge_2 = merge_1.merge(hospitalized, left_index=True, right_index=True)\n",
    "df = merge_2.merge(deaths, left_index=True, right_index=True)\n",
    "df "
   ]
  },
  {
   "cell_type": "code",
   "execution_count": 35,
   "metadata": {},
   "outputs": [],
   "source": [
    "# Saving the DataFrame as a CSV file\n",
    "\n",
    "df.to_csv('data_output/colima_df.csv', index = True)"
   ]
  },
  {
   "cell_type": "code",
   "execution_count": 36,
   "metadata": {},
   "outputs": [
    {
     "output_type": "execute_result",
     "data": {
      "text/plain": [
       "confirmed               int64\n",
       "confirmed_daily       float64\n",
       "confirmed_ma_7        float64\n",
       "confirmed_ma_14       float64\n",
       "suspects                int64\n",
       "suspects_ma_7         float64\n",
       "suspects_ma_14        float64\n",
       "hospitalized            int64\n",
       "hospitalized_daily    float64\n",
       "hospitalized_ma_7     float64\n",
       "hospitalized_ma_14    float64\n",
       "deaths                  int64\n",
       "deaths_daily          float64\n",
       "deaths_ma_7           float64\n",
       "deaths_ma_14          float64\n",
       "dtype: object"
      ]
     },
     "metadata": {},
     "execution_count": 36
    }
   ],
   "source": [
    "df.dtypes"
   ]
  }
 ]
}